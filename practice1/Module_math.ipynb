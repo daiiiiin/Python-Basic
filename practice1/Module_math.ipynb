{
 "cells": [
  {
   "cell_type": "code",
   "execution_count": 1,
   "id": "097b0238",
   "metadata": {},
   "outputs": [],
   "source": [
    "def f1(x):\n",
    "    return min(x)\n",
    "\n",
    "\n",
    "def f2(x):\n",
    "    x.sort(reverse=True)\n",
    "    return x\n",
    "\n",
    "\n",
    "def f3(x):\n",
    "    max_val = max(x)\n",
    "    min_val = min(x)\n",
    "    return max_val + min_val, max_val - min_val\n",
    "\n",
    "\n",
    "def f4(x):\n",
    "    max_val = max(x)\n",
    "    min_val = min(x)\n",
    "    \n",
    "    try:\n",
    "        return max_val // min_val, max_val % min_val\n",
    "    except ZeroDivisionError:\n",
    "        print('zero division error!!')\n",
    "        x.remove(0)\n",
    "        min_val = min(x)\n",
    "        return max_val // min_val, max_val % min_val"
   ]
  }
 ],
 "metadata": {
  "kernelspec": {
   "display_name": "Python 3 (ipykernel)",
   "language": "python",
   "name": "python3"
  },
  "language_info": {
   "codemirror_mode": {
    "name": "ipython",
    "version": 3
   },
   "file_extension": ".py",
   "mimetype": "text/x-python",
   "name": "python",
   "nbconvert_exporter": "python",
   "pygments_lexer": "ipython3",
   "version": "3.9.7"
  }
 },
 "nbformat": 4,
 "nbformat_minor": 5
}
