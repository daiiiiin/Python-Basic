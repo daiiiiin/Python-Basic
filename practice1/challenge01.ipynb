{
 "cells": [
  {
   "cell_type": "code",
   "execution_count": 53,
   "id": "110e2a56",
   "metadata": {},
   "outputs": [
    {
     "name": "stdout",
     "output_type": "stream",
     "text": [
      "4\n",
      "4\n",
      "3\n",
      "2\n",
      "1\n"
     ]
    }
   ],
   "source": [
    "# 카운트다운\n",
    "n = int(input())\n",
    "for i in range(n, 0, -1):\n",
    "    print(i)"
   ]
  },
  {
   "cell_type": "code",
   "execution_count": 54,
   "id": "1506e072",
   "metadata": {},
   "outputs": [
    {
     "name": "stdout",
     "output_type": "stream",
     "text": [
      "7\n",
      "*******\n",
      "*     *\n",
      "*     *\n",
      "*     *\n",
      "*     *\n",
      "*     *\n",
      "*******\n"
     ]
    }
   ],
   "source": [
    "# 사각형 출력\n",
    "n = int(input())\n",
    "\n",
    "for i in range(0, n):\n",
    "    if i == 0 or i == (n-1):\n",
    "        print('*'*n)\n",
    "    else:\n",
    "        print('*' + ' '*(n-2) + '*')"
   ]
  },
  {
   "cell_type": "code",
   "execution_count": 19,
   "id": "95cd7dea",
   "metadata": {},
   "outputs": [
    {
     "name": "stdout",
     "output_type": "stream",
     "text": [
      "2 5\n",
      "[2, 4, 6, 8, 10]\n"
     ]
    }
   ],
   "source": [
    "# 조건 리스트 출력\n",
    "x, n = map(int, input().split())\n",
    "a = []\n",
    "for i in range(x, x*n+1, x):\n",
    "    a.append(i)\n",
    "    \n",
    "print(a)"
   ]
  },
  {
   "cell_type": "code",
   "execution_count": 56,
   "id": "15af56a8",
   "metadata": {
    "scrolled": true
   },
   "outputs": [
    {
     "name": "stdout",
     "output_type": "stream",
     "text": [
      "2 2 3 4 5 5 7\n",
      "['3', '7', '5', '4', '2']\n"
     ]
    }
   ],
   "source": [
    "# 중복제거\n",
    "arr = input().split()\n",
    "arr_set = set(arr)\n",
    "print(list(arr_set))"
   ]
  },
  {
   "cell_type": "code",
   "execution_count": 58,
   "id": "45433977",
   "metadata": {},
   "outputs": [
    {
     "name": "stdout",
     "output_type": "stream",
     "text": [
      "1231231\n",
      "1,231,231\n"
     ]
    }
   ],
   "source": [
    "# 문자열 변환\n",
    "n = int(input())\n",
    "print('{:,}'.format(n))"
   ]
  },
  {
   "cell_type": "code",
   "execution_count": 52,
   "id": "f41b51c4",
   "metadata": {},
   "outputs": [
    {
     "name": "stdout",
     "output_type": "stream",
     "text": [
      "three28one\n",
      "3281\n"
     ]
    }
   ],
   "source": [
    "# 문자열 변환\n",
    "dic = {'zero':'0', 'one':'1', 'two':'2', 'three':'3', 'four':'4', 'five':'5', 'six':'6', 'seven':'7', 'eight':'8', 'nine':'9'}\n",
    "\n",
    "\n",
    "word = input()\n",
    "\n",
    "dic_item = list(dic.items())\n",
    "k = list(dic.keys())\n",
    "\n",
    "\n",
    "for j in range(len(dic)):\n",
    "    if k[j] in word:\n",
    "        answer = word.replace(dic_item[j][0], dic_item[j][1])\n",
    "        word = answer\n",
    "    elif k[j] not in word:\n",
    "        answer = word\n",
    "        \n",
    "print(answer)"
   ]
  }
 ],
 "metadata": {
  "kernelspec": {
   "display_name": "Python 3 (ipykernel)",
   "language": "python",
   "name": "python3"
  },
  "language_info": {
   "codemirror_mode": {
    "name": "ipython",
    "version": 3
   },
   "file_extension": ".py",
   "mimetype": "text/x-python",
   "name": "python",
   "nbconvert_exporter": "python",
   "pygments_lexer": "ipython3",
   "version": "3.9.7"
  }
 },
 "nbformat": 4,
 "nbformat_minor": 5
}
