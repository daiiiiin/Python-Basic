{
 "cells": [
  {
   "cell_type": "code",
   "execution_count": 1,
   "id": "24b19938",
   "metadata": {},
   "outputs": [
    {
     "name": "stdout",
     "output_type": "stream",
     "text": [
      "10진수를 입력하세요 : 12\n",
      "1100\n"
     ]
    }
   ],
   "source": [
    "# 10진수를 2진수로 변환\n",
    "\n",
    "num = int(input(\"10진수를 입력하세요 : \"))\n",
    "n = []\n",
    "\n",
    "while True:\n",
    "    a = int(num / 2)\n",
    "    b = int(num % 2)\n",
    "    n.insert(0, b)\n",
    "    \n",
    "    if a != 0:\n",
    "        num = a\n",
    "    else:\n",
    "        break\n",
    "        \n",
    "\n",
    "result = ''.join(map(str, n))\n",
    "print(result)\n"
   ]
  },
  {
   "cell_type": "code",
   "execution_count": 4,
   "id": "07605d7d",
   "metadata": {},
   "outputs": [
    {
     "name": "stdout",
     "output_type": "stream",
     "text": [
      "숫자를 맞혀 보세요. (1 ~ 100)\n",
      "50\n",
      "숫자가 너무 작습니다.\n",
      "60\n",
      "숫자가 너무 작습니다.\n",
      "80\n",
      "숫자가 너무 작습니다.\n",
      "90\n",
      "숫자가 너무 큽니다.\n",
      "88\n",
      "숫자가 너무 큽니다.\n",
      "86\n",
      "숫자가 너무 큽니다.\n",
      "85\n",
      "숫자가 너무 큽니다.\n",
      "83\n",
      "숫자가 너무 작습니다.\n",
      "84\n",
      "정답입니다. 입력한 숫자는 84입니다.\n"
     ]
    }
   ],
   "source": [
    "# 숫자 찾기 게임\n",
    "\n",
    "import random\n",
    "\n",
    "\n",
    "num = random.randrange(1, 101)\n",
    "print('숫자를 맞혀 보세요. (1 ~ 100)')\n",
    "answer = int(input())\n",
    "\n",
    "while True:\n",
    "    if answer > num:\n",
    "        print('숫자가 너무 큽니다.')\n",
    "        new_answer = int(input())\n",
    "        answer = new_answer\n",
    "    elif answer < num:\n",
    "        print('숫자가 너무 작습니다.')\n",
    "        new_answer = int(input())\n",
    "        answer = new_answer\n",
    "    elif answer == num:\n",
    "        print('정답입니다. 입력한 숫자는 {}입니다.'.format(answer))\n",
    "        break"
   ]
  },
  {
   "cell_type": "code",
   "execution_count": 6,
   "id": "e1ab182d",
   "metadata": {},
   "outputs": [
    {
     "name": "stdout",
     "output_type": "stream",
     "text": [
      "구구단 몇 단을 계산할까요?\n",
      "3\n",
      "구구단 3단을 계산합니다.\n",
      "3 x 1 = 3\n",
      "3 x 2 = 6\n",
      "3 x 3 = 9\n",
      "3 x 4 = 12\n",
      "3 x 5 = 15\n",
      "3 x 6 = 18\n",
      "3 x 7 = 21\n",
      "3 x 8 = 24\n",
      "3 x 9 = 27\n",
      "구구단 몇 단을 계산할까요?\n",
      "5\n",
      "구구단 5단을 계산합니다.\n",
      "5 x 1 = 5\n",
      "5 x 2 = 10\n",
      "5 x 3 = 15\n",
      "5 x 4 = 20\n",
      "5 x 5 = 25\n",
      "5 x 6 = 30\n",
      "5 x 7 = 35\n",
      "5 x 8 = 40\n",
      "5 x 9 = 45\n",
      "구구단 몇 단을 계산할까요?\n",
      "0\n",
      "구구단 게임을 종료합니다.\n"
     ]
    }
   ],
   "source": [
    "# 연속적인 구구단 계산기\n",
    "\n",
    "stop = 1\n",
    "\n",
    "while stop == True:\n",
    "    print('구구단 몇 단을 계산할까요?')\n",
    "    n = int(input())\n",
    "    if n > 0:\n",
    "        print('구구단 {}단을 계산합니다.'.format(n))\n",
    "        for i in range(1, 10):\n",
    "            print('{} x {} = {}'.format(n, i, n*i))\n",
    "\n",
    "    elif n == 0:\n",
    "        stop = n\n",
    "        print('구구단 게임을 종료합니다.')\n"
   ]
  },
  {
   "cell_type": "code",
   "execution_count": 15,
   "id": "5f7b1f13",
   "metadata": {},
   "outputs": [
    {
     "name": "stdout",
     "output_type": "stream",
     "text": [
      "[47.0, 74.0, 51.0, 60.0, 90.0]\n"
     ]
    }
   ],
   "source": [
    "# 평균 구하기\n",
    "score = [\n",
    "    [49, 80, 20, 100, 80],\n",
    "    [43, 60, 85, 30, 90],\n",
    "    [49, 82, 48, 50, 100]\n",
    "]\n",
    "result = []\n",
    "bin = []\n",
    "trans_score = []\n",
    "\n",
    "r = len(score)\n",
    "c = len(score[0])\n",
    "for i in range(c):\n",
    "    for j in range(r):\n",
    "        bin.append(score[j][i])\n",
    "    trans_score.append(bin)\n",
    "    bin = []\n",
    "\n",
    "for i in range(len(trans_score)):\n",
    "    mean = sum(trans_score[i])/len(trans_score[i])\n",
    "    result.append(mean)\n",
    "    \n",
    "print(result)"
   ]
  }
 ],
 "metadata": {
  "kernelspec": {
   "display_name": "Python 3 (ipykernel)",
   "language": "python",
   "name": "python3"
  },
  "language_info": {
   "codemirror_mode": {
    "name": "ipython",
    "version": 3
   },
   "file_extension": ".py",
   "mimetype": "text/x-python",
   "name": "python",
   "nbconvert_exporter": "python",
   "pygments_lexer": "ipython3",
   "version": "3.9.7"
  }
 },
 "nbformat": 4,
 "nbformat_minor": 5
}
