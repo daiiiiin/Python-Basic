{
 "cells": [
  {
   "cell_type": "code",
   "execution_count": 8,
   "id": "14524e68",
   "metadata": {},
   "outputs": [],
   "source": [
    "# 클래스1 : 원의 둘레, 넓이를 구하는 클래스 구현\n",
    "class circle(object):\n",
    "    def __init__(self, r):\n",
    "        self.r = r\n",
    "        self.pi = 'pi'\n",
    "\n",
    "    def circumference(self, r):\n",
    "        print(str(2*self.r) + self.pi)\n",
    "\n",
    "    def area(self, r):\n",
    "        print(str(self.r**2) + self.pi)\n"
   ]
  },
  {
   "cell_type": "code",
   "execution_count": 9,
   "id": "9e1f1961",
   "metadata": {},
   "outputs": [
    {
     "name": "stdout",
     "output_type": "stream",
     "text": [
      "4pi\n",
      "4pi\n"
     ]
    }
   ],
   "source": [
    "circle1 = circle(2)\n",
    "circle1.circumference(2)\n",
    "circle1.area(2)"
   ]
  },
  {
   "cell_type": "code",
   "execution_count": 10,
   "id": "e76a3c92",
   "metadata": {},
   "outputs": [
    {
     "name": "stdout",
     "output_type": "stream",
     "text": [
      "6pi\n",
      "9pi\n"
     ]
    }
   ],
   "source": [
    "circle2 = circle(3)\n",
    "circle2.circumference(3)\n",
    "circle2.area(3)"
   ]
  },
  {
   "cell_type": "code",
   "execution_count": 13,
   "id": "9e4512b2",
   "metadata": {},
   "outputs": [],
   "source": [
    "# 클래스2 : 구구단 계산 클래스 구현\n",
    "class mul(object):\n",
    "    def __init__(self, num):\n",
    "        self.num = num\n",
    "\n",
    "    def calculation(self, num):\n",
    "        for i in range(1, 10):\n",
    "            print('{} x {} = {}'.format(self.num, i, self.num*i))"
   ]
  },
  {
   "cell_type": "code",
   "execution_count": 14,
   "id": "89443a10",
   "metadata": {},
   "outputs": [
    {
     "name": "stdout",
     "output_type": "stream",
     "text": [
      "2 x 1 = 2\n",
      "2 x 2 = 4\n",
      "2 x 3 = 6\n",
      "2 x 4 = 8\n",
      "2 x 5 = 10\n",
      "2 x 6 = 12\n",
      "2 x 7 = 14\n",
      "2 x 8 = 16\n",
      "2 x 9 = 18\n"
     ]
    }
   ],
   "source": [
    "n1 = mul(2)\n",
    "n1.calculation(2)"
   ]
  },
  {
   "cell_type": "code",
   "execution_count": 15,
   "id": "fe329d32",
   "metadata": {},
   "outputs": [
    {
     "name": "stdout",
     "output_type": "stream",
     "text": [
      "5 x 1 = 5\n",
      "5 x 2 = 10\n",
      "5 x 3 = 15\n",
      "5 x 4 = 20\n",
      "5 x 5 = 25\n",
      "5 x 6 = 30\n",
      "5 x 7 = 35\n",
      "5 x 8 = 40\n",
      "5 x 9 = 45\n"
     ]
    }
   ],
   "source": [
    "n2 = mul(5)\n",
    "n2.calculation(5)"
   ]
  },
  {
   "cell_type": "code",
   "execution_count": null,
   "id": "2ddbbf95",
   "metadata": {},
   "outputs": [],
   "source": []
  }
 ],
 "metadata": {
  "kernelspec": {
   "display_name": "Python 3 (ipykernel)",
   "language": "python",
   "name": "python3"
  },
  "language_info": {
   "codemirror_mode": {
    "name": "ipython",
    "version": 3
   },
   "file_extension": ".py",
   "mimetype": "text/x-python",
   "name": "python",
   "nbconvert_exporter": "python",
   "pygments_lexer": "ipython3",
   "version": "3.9.7"
  }
 },
 "nbformat": 4,
 "nbformat_minor": 5
}
