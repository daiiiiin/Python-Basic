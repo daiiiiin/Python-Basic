{
 "cells": [
  {
   "cell_type": "code",
   "execution_count": 5,
   "id": "4d09e382",
   "metadata": {},
   "outputs": [
    {
     "name": "stdout",
     "output_type": "stream",
     "text": [
      "32489\n",
      "98423\n"
     ]
    }
   ],
   "source": [
    "# 1\n",
    "n = int(input())\n",
    "\n",
    "print(str(n)[::-1])"
   ]
  },
  {
   "cell_type": "code",
   "execution_count": 28,
   "id": "462f66a2",
   "metadata": {},
   "outputs": [
    {
     "name": "stdout",
     "output_type": "stream",
     "text": [
      "56789\n",
      "[9, 8, 7, 6, 5]\n"
     ]
    }
   ],
   "source": [
    "# 2\n",
    "n = int(input())\n",
    "\n",
    "new_n = list(str(n))\n",
    "result = []\n",
    "\n",
    "for i in range(len(new_n)):\n",
    "    result.append(int(new_n.pop()))\n",
    "    \n",
    "print(result)"
   ]
  },
  {
   "cell_type": "code",
   "execution_count": 25,
   "id": "3583267a",
   "metadata": {},
   "outputs": [
    {
     "name": "stdout",
     "output_type": "stream",
     "text": [
      "6\n",
      "6개의 숫자를 입력하시오 : 8 10 2 3 4 12\n",
      "2\n"
     ]
    }
   ],
   "source": [
    "# 3\n",
    "n = int(input())\n",
    "num_list = list(map(int, input('{}개의 숫자를 입력하시오 : '.format(n)).split()))\n",
    "\n",
    "\n",
    "print(min(num_list))"
   ]
  },
  {
   "cell_type": "code",
   "execution_count": 27,
   "id": "cefa23c7",
   "metadata": {},
   "outputs": [
    {
     "name": "stdout",
     "output_type": "stream",
     "text": [
      "6\n",
      "6개의 숫자를 입력하시오 : 8 10 2 3 4 12\n",
      "12\n",
      "6\n"
     ]
    }
   ],
   "source": [
    "# 4\n",
    "n = int(input())\n",
    "num_list = list(map(int, input('{}개의 숫자를 입력하시오 : '.format(n)).split()))\n",
    "\n",
    "print(max(num_list))\n",
    "print(num_list.index(max(num_list))+1)"
   ]
  }
 ],
 "metadata": {
  "kernelspec": {
   "display_name": "Python 3 (ipykernel)",
   "language": "python",
   "name": "python3"
  },
  "language_info": {
   "codemirror_mode": {
    "name": "ipython",
    "version": 3
   },
   "file_extension": ".py",
   "mimetype": "text/x-python",
   "name": "python",
   "nbconvert_exporter": "python",
   "pygments_lexer": "ipython3",
   "version": "3.9.7"
  }
 },
 "nbformat": 4,
 "nbformat_minor": 5
}
