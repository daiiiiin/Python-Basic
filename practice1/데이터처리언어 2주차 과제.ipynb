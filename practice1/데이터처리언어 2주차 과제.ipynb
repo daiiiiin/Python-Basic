{
 "cells": [
  {
   "cell_type": "code",
   "execution_count": 2,
   "id": "fd3c1c98",
   "metadata": {},
   "outputs": [
    {
     "name": "stdout",
     "output_type": "stream",
     "text": [
      "3 5 1 7 8 14 9\n",
      "(9, 8)\n"
     ]
    }
   ],
   "source": [
    "# 최대최소 구하기 함수\n",
    "\n",
    "def function(number):\n",
    "    for i in range(len(number)):\n",
    "        if number[i] % 2 == 1:\n",
    "            odd.append(number[i])\n",
    "        else:\n",
    "            even.append(number[i])\n",
    "    \n",
    "#     max_odd = odd[0]\n",
    "#     min_even = even[0]\n",
    "    \n",
    "#     for j in range(1, len(odd)):\n",
    "#         if max_odd < odd[j]:\n",
    "#             max_odd = odd[j]\n",
    "        \n",
    "#     for k in range(1, len(even)):\n",
    "#         if min_even > even[k]:\n",
    "#             min_even = even[k]\n",
    "\n",
    "    max_odd = max(odd)\n",
    "    min_even = min(even)\n",
    "    \n",
    "    return max_odd, min_even\n",
    "\n",
    "\n",
    "number = list(map(int, input().split()))\n",
    "odd = []\n",
    "even = []\n",
    "print(function(number))\n",
    "    "
   ]
  },
  {
   "cell_type": "code",
   "execution_count": 3,
   "id": "87853622",
   "metadata": {},
   "outputs": [
    {
     "name": "stdout",
     "output_type": "stream",
     "text": [
      "string\n",
      "ri\n"
     ]
    }
   ],
   "source": [
    "# 단어비교 함수\n",
    "\n",
    "def find_middle_word(s):\n",
    "    i = len(s)//2\n",
    "    if len(s) % 2 == 1:\n",
    "        return s[i]\n",
    "    else:\n",
    "        return s[i-1:i+1]\n",
    "\n",
    "s = input()\n",
    "print(find_middle_word(s))"
   ]
  },
  {
   "cell_type": "code",
   "execution_count": 4,
   "id": "39dc7d50",
   "metadata": {},
   "outputs": [
    {
     "name": "stdout",
     "output_type": "stream",
     "text": [
      "6 3\n",
      "6 + 3 = 9\n",
      "6 - 3 = 3\n",
      "6 * 3 = 18\n",
      "6 / 3 = 2\n"
     ]
    }
   ],
   "source": [
    "# 문자열 변환 함수1\n",
    "\n",
    "def calculation(x, y):\n",
    "    print('%d + %d = %d' % (x, y, x+y),\n",
    "    '%d - %d = %d' % (x, y, x-y),\n",
    "    '%d * %d = %d' % (x, y, x*y),\n",
    "    '%d / %d = %d' % (x, y, x/y), sep='\\n')\n",
    "\n",
    "\n",
    "x, y = map(int, input().split())\n",
    "calculation(x, y)"
   ]
  },
  {
   "cell_type": "code",
   "execution_count": 5,
   "id": "b8bfdf6f",
   "metadata": {},
   "outputs": [
    {
     "name": "stdout",
     "output_type": "stream",
     "text": [
      "BcJKi LAs\n",
      "bCjkIlaS"
     ]
    }
   ],
   "source": [
    "# 문자열 변환 함수2\n",
    "\n",
    "def transform(word):\n",
    "    for i in range(len(word)):\n",
    "        if word[i] >= 'A' and word[i] <= 'Z':\n",
    "            print(word[i].lower(), end='')\n",
    "            \n",
    "        elif word[i] >= 'a' and word[i] <= 'z':\n",
    "            print(word[i].upper(), end='')\n",
    "\n",
    "s = input()\n",
    "transform(s)\n",
    "    "
   ]
  }
 ],
 "metadata": {
  "kernelspec": {
   "display_name": "Python 3 (ipykernel)",
   "language": "python",
   "name": "python3"
  },
  "language_info": {
   "codemirror_mode": {
    "name": "ipython",
    "version": 3
   },
   "file_extension": ".py",
   "mimetype": "text/x-python",
   "name": "python",
   "nbconvert_exporter": "python",
   "pygments_lexer": "ipython3",
   "version": "3.9.7"
  }
 },
 "nbformat": 4,
 "nbformat_minor": 5
}
