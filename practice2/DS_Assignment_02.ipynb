{
  "nbformat": 4,
  "nbformat_minor": 0,
  "metadata": {
    "colab": {
      "provenance": []
    },
    "kernelspec": {
      "name": "python3",
      "display_name": "Python 3"
    },
    "language_info": {
      "name": "python"
    }
  },
  "cells": [
    {
      "cell_type": "markdown",
      "metadata": {
        "id": "LTrjD0Ltmg5l"
      },
      "source": [
        "# 전자제조데이터분석 과제 02\n",
        "## 제출: eclass 과제메뉴 02\n",
        "- 각 코드 블럭의 출력 결과까지 저장하여 제출해주세요.\n",
        "- 중요 코드에 대해서는 동작방식을 주석으로 설명해주세요.\n",
        "- ipynb 파일을 압축 후 e-class를 통해 제출해주세요.\n",
        "\n",
        "##기한: 2022.10.16 23:59\n",
        "\n",
        "학번: 22510107\n",
        "이름: 이다인"
      ]
    },
    {
      "cell_type": "markdown",
      "metadata": {
        "id": "Cs2xL-rAlHtW"
      },
      "source": [
        "1) 아래 코드의 동작방식에 대하여 분석/설명하시오.\n",
        "- 코드 블럭 안에 본인의 분석 내용을 기입할 것.\n",
        "- 이미지/사진 등도 추가 가능"
      ]
    },
    {
      "cell_type": "code",
      "metadata": {
        "id": "tI0JxQGpBZ-n",
        "colab": {
          "base_uri": "https://localhost:8080/"
        },
        "outputId": "536d34cd-da2a-464a-d752-5466cafaed0c"
      },
      "source": [
        "# 수업에서 진행한 내용 중 일부임\n",
        "# csv에서 데이터 추출하기\n",
        "import csv\n",
        "from pprint import pprint\n",
        "\n",
        "f = open('portfoliodate.csv') ## portfoliodate.csv 파일을 불러와서\n",
        "rows = csv.reader(f)          ## 파일의 행을 읽는다.\n",
        "headers = next(rows)\n",
        "print(headers)                # column name\n",
        "\n",
        "select = ['name', 'shares', 'price']\n",
        "indices = [ headers.index(colname) for colname in select ]\n",
        "## select에 들어있는 단어를 하나씩 돌면서\n",
        "## header내에서 colname이 어느 위치에 있는지를 indices에 저장한다.\n",
        "\n",
        "\n",
        "print(select, indices)\n",
        "row = next(rows)\n",
        "\n",
        "# record = { colname: row[index] for colname, index in zip(select, indices) } # 일단 한 행만 읽어서 dictionary로 만들어볼까요?\n",
        "# print(record)\n",
        "\n",
        "\n",
        "# 전체 행을 읽어서 dictionary의 리스트로 만들어볼까요?\n",
        "records = [ { colname: row[index] for colname, index in zip(select, indices) } for row in rows ] # 얘는 사실 read_portfolio와 똑같은 기능을 함!\n",
        "pprint(records)\n",
        "## 1. for row in rows\n",
        "##    { } 바깥에 있는 for문을 먼저 돌게 된다. 불러온 csv파일의 행을 한 줄씩 돌게 된다.\n",
        "## 2. for colname, index in zip(select, indices)\n",
        "##    위에서 지정한 select와 indices를 묶어서 만든 리스트를 하나씩 돌면서   ex) [select, indices]\n",
        "##    colname : row[index] 의 형태로 해당 값을 가져와 딕셔너리를 만든다.\n",
        "\n",
        "\n"
      ],
      "execution_count": 2,
      "outputs": [
        {
          "output_type": "stream",
          "name": "stdout",
          "text": [
            "['name', 'date', 'time', 'shares', 'price']\n",
            "['name', 'shares', 'price'] [0, 3, 4]\n",
            "[{'name': 'IBM', 'price': '91.10', 'shares': '50'},\n",
            " {'name': 'CAT', 'price': '83.44', 'shares': '150'},\n",
            " {'name': 'MSFT', 'price': '51.23', 'shares': '200'},\n",
            " {'name': 'GE', 'price': '40.37', 'shares': '95'},\n",
            " {'name': 'MSFT', 'price': '65.10', 'shares': '50'},\n",
            " {'name': 'IBM', 'price': '70.44', 'shares': '100'}]\n"
          ]
        }
      ]
    },
    {
      "cell_type": "markdown",
      "metadata": {
        "id": "chtCD7nMlfPO"
      },
      "source": [
        "2) sample_string에서 사람의 이름을 찾기 위한 regular expression을 작성하여 아래 함수를 완성하시오."
      ]
    },
    {
      "cell_type": "code",
      "source": [
        "## [A-Z] : 이름은 대문자로 시작하니까 대문자로 시작하는 모든 단어\n",
        "## \\w : 공백이 아닌 문자나 숫자\n",
        "## + : 1번 이상 반복"
      ],
      "metadata": {
        "id": "kOxezl_VDBag"
      },
      "execution_count": 3,
      "outputs": []
    },
    {
      "cell_type": "code",
      "metadata": {
        "id": "3mdVzkpplgAt"
      },
      "source": [
        "import re\n",
        "def names():\n",
        "    simple_string = \"\"\"Amy is 5 years old, and her sister Mary is 2 years old.\n",
        "    Ruth and Peter, their parents, have 3 kids.\"\"\"\n",
        "\n",
        "    p=re.findall(\"[A-Z]\\w+\", simple_string) # 이 부분을 구현하세요.\n",
        "    return p\n",
        "\n"
      ],
      "execution_count": 4,
      "outputs": []
    },
    {
      "cell_type": "code",
      "metadata": {
        "id": "v_WZSrGRliwt"
      },
      "source": [
        "assert len(names()) == 4, \"There are four names in the simple_string\"\n",
        "# 사람 이름은 4개가 포함되어 있습니다. 따라서, names()가 정상 동작한다면, 이 코드 블럭의 assert 문을 통과해야 합니다."
      ],
      "execution_count": 5,
      "outputs": []
    },
    {
      "cell_type": "markdown",
      "metadata": {
        "id": "fl6FknymmP00"
      },
      "source": [
        "3) grades.txt 파일에는 학생과 학점의 목록이 포함되어 있습니다.\n",
        "\n",
        "학생들 중 성적이 'B'인 학생들만 return하기 위한 함수를 완성하세요."
      ]
    },
    {
      "cell_type": "code",
      "source": [
        "# 아래의 경우, string의 마지막이 문자가 아니라 공백이 들어가 있어서\n",
        "# s[-1]을 출력하면 공백이 출력된다..\n",
        "s = \"Simon Loidl: B \"\n",
        "print(s[-1])\n",
        "\n",
        "# 이 문제를 유의하여 코드 작성"
      ],
      "metadata": {
        "colab": {
          "base_uri": "https://localhost:8080/"
        },
        "id": "2UmHemBjFVD2",
        "outputId": "89341092-a50e-42a1-eb0d-8b23b37ad246"
      },
      "execution_count": 6,
      "outputs": [
        {
          "output_type": "stream",
          "name": "stdout",
          "text": [
            " \n"
          ]
        }
      ]
    },
    {
      "cell_type": "code",
      "metadata": {
        "id": "j2rjO6WPms81"
      },
      "source": [
        "def grades():\n",
        "    with open (\"grades.txt\", \"r\") as file:\n",
        "        grades = file.readlines() # 한 줄씩 읽기\n",
        "        grades = [lines.strip(\"\\n\") for lines in grades]\n",
        "        list_of_B = []\n",
        "        for g in grades:\n",
        "            if g.strip()[-1] == \"B\":\n",
        "                list_of_B.append(g)\n",
        "    return list_of_B\n",
        "\n"
      ],
      "execution_count": 7,
      "outputs": []
    },
    {
      "cell_type": "code",
      "metadata": {
        "id": "GbCEmYO2mwIU"
      },
      "source": [
        "assert len(grades()) == 16\n",
        "# grades()가 정상동작한다면 16개의 아이템을 return 해야 합니다."
      ],
      "execution_count": 9,
      "outputs": []
    },
    {
      "cell_type": "markdown",
      "metadata": {
        "id": "0CG3aZa_oHTd"
      },
      "source": [
        "4) logdata.txt 파일은 웹 페이지 접속 로그를 포함하고 있으며 각각의 라인은 다음과 같은 항목을 포함하고 있습니다:\n",
        "\n",
        "- a host (e.g., '146.204.224.152')\n",
        "- a user_name (e.g., 'feest6811' 주의: 이름이 없는 경우도 있는데, 그때는 '-'가 이용됩니다.)\n",
        "- the time a request was made (e.g., '21/Jun/2019:15:45:24 -0700')\n",
        "- the post request type (e.g., 'POST /incentivize HTTP/1.1' 주의: POST 요청만 존재하는 것은 아닙니다.)\n",
        "\n",
        "파일을 읽고 아래와 같은 형식을 가진 딕셔너리들의 리스트를 생성하기 위한 함수를 작성하세요:\n",
        "\n",
        "```\n",
        "example_dict = {\"host\":\"146.204.224.152\",\n",
        "                \"user_name\":\"feest6811\",\n",
        "                \"time\":\"21/Jun/2019:15:45:24 -0700\",\n",
        "                \"request\":\"POST /incentivize HTTP/1.1\"}\n",
        "```\n",
        "\n",
        "\n"
      ]
    },
    {
      "cell_type": "code",
      "source": [
        "s = '146.204.224.152 - feest6811 [21/Jun/2019:15:45:24 -0700] \"POST /incentivize HTTP/1.1\" 302 4622'\n",
        "s2 = '159.253.153.40 - - [21/Jun/2019:15:46:10 -0700] \"POST /e-business HTTP/1.0\" 504 19845'\n",
        "# print(re.findall('\\d+.\\d+.\\d+.\\d+', s))\n",
        "# print(re.findall('\\w+', s))\n",
        "# print(re.findall('\\d+/\\D+/\\d+:\\d+:\\d+:\\d+ -\\d+', s))\n",
        "print(re.findall('\\S+', s.replace('\"',''))) # len이 모두 10으로 동일\n",
        "print(re.findall('\\S+', s2))\n",
        "\n",
        "# re.findall('\\S+', s2)으로 logdata를 수행하면 띄어쓰기를 기준으로 단어를 쪼갠다.\n",
        "# user-name이 있든 없든 그 길이는 10으로\n",
        "# host, user_name, time, request의 value는 고정된 위치로 불러올 수 있다.\n",
        "# 하지만 \\S+ 로 불러왔기 때문에 \",[,] 가 포함된 상태로\n",
        "# 이 문자들을 없애주어야 아래의 assert를 통과할 수 있다."
      ],
      "metadata": {
        "colab": {
          "base_uri": "https://localhost:8080/"
        },
        "id": "dzEUG8e0QS03",
        "outputId": "10981669-f551-4244-bf80-27905e9715f5"
      },
      "execution_count": 10,
      "outputs": [
        {
          "output_type": "stream",
          "name": "stdout",
          "text": [
            "['146.204.224.152', '-', 'feest6811', '[21/Jun/2019:15:45:24', '-0700]', 'POST', '/incentivize', 'HTTP/1.1', '302', '4622']\n",
            "['159.253.153.40', '-', '-', '[21/Jun/2019:15:46:10', '-0700]', '\"POST', '/e-business', 'HTTP/1.0\"', '504', '19845']\n"
          ]
        }
      ]
    },
    {
      "cell_type": "code",
      "metadata": {
        "id": "KHVy7w4zo8_9"
      },
      "source": [
        "#@title 기본 제목 텍스트\n",
        "def logs():\n",
        "    with open(\"logdata.txt\", \"r\") as file:\n",
        "        logdata = file.readlines()\n",
        "        logdata = [lines.replace('[','') for lines in logdata]\n",
        "        logdata = [lines.replace(']','') for lines in logdata]\n",
        "        ans = []\n",
        "        for s in logdata:\n",
        "            a = re.findall('\\S+', s.replace('\"',''))\n",
        "            example_dict = {\"host\":a[0],\n",
        "                            \"user_name\":a[2],\n",
        "                            \"time\":a[3]+\" \"+a[4],\n",
        "                            \"request\":a[5]+\" \"+a[6]+\" \"+a[7]}\n",
        "            # print(example_dict)\n",
        "            ans.append(example_dict)\n",
        "        return ans\n",
        "\n",
        "\n",
        "\n",
        "\n"
      ],
      "execution_count": 11,
      "outputs": []
    },
    {
      "cell_type": "code",
      "metadata": {
        "id": "rNnYbEBSpMHE"
      },
      "source": [
        "assert len(logs()) == 979\n",
        "\n",
        "one_item={'host': '146.204.224.152',  'user_name': 'feest6811',  'time': '21/Jun/2019:15:45:24 -0700',  'request': 'POST /incentivize HTTP/1.1'}\n",
        "two_item={'host': '245.247.95.68', 'user_name': 'cummerata3376', 'time': '21/Jun/2019:15:47:24 -0700', 'request': 'GET /redefine HTTP/2.0'}\n",
        "three_item = {'host': '148.174.255.122', 'user_name': '-', 'time': '21/Jun/2019:15:56:09 -0700', 'request': 'PATCH /recontextualize HTTP/2.0'}\n",
        "\n",
        "assert one_item in logs(), \"Sorry, this item should be in the log results, check your formating\"\n",
        "assert two_item in logs(), \"Sorry, this item should be in the log results, check your formating\"\n",
        "assert three_item in logs(), \"Sorry, this item should be in the log results, check your formating\"\n",
        "\n",
        "# 4개의 assert를 모두 통과해야 합니다.\n",
        "# 979개의 딕셔너리를 포함한 리스트가 생성되어야 하고 상기 아이템들이이 리스트에 포함되어 있어야 합니다."
      ],
      "execution_count": 12,
      "outputs": []
    }
  ]
}